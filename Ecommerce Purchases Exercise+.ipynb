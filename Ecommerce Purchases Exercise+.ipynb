{
  "nbformat": 4,
  "nbformat_minor": 0,
  "metadata": {
    "colab": {
      "name": "Ecommerce+Purchases+Exercise+.ipynb",
      "version": "0.3.2",
      "provenance": [],
      "include_colab_link": true
    },
    "kernelspec": {
      "display_name": "Python 3",
      "language": "python",
      "name": "python3"
    }
  },
  "cells": [
    {
      "cell_type": "markdown",
      "metadata": {
        "id": "view-in-github",
        "colab_type": "text"
      },
      "source": [
        "<a href=\"https://colab.research.google.com/github/phamthoidinhthien/ml-practice/blob/master/Ecommerce%20Purchases%20Exercise%2B.ipynb\" target=\"_parent\"><img src=\"https://colab.research.google.com/assets/colab-badge.svg\" alt=\"Open In Colab\"/></a>"
      ]
    },
    {
      "metadata": {
        "id": "h_n_XmrcKDbF",
        "colab_type": "text"
      },
      "cell_type": "markdown",
      "source": [
        "# Ecommerce Purchases Exercise\n",
        "\n",
        "In this Exercise you will be given some Fake Data about some purchases done through Amazon! Just go ahead and follow the directions and try your best to answer the questions and complete the tasks. Feel free to reference the solutions. Most of the tasks can be solved in different ways. For the most part, the questions get progressively harder.\n",
        "\n",
        "Please excuse anything that doesn't make \"Real-World\" sense in the dataframe, all the data is fake and made-up.\n",
        "\n",
        "Also note that all of these questions can be answered with one line of code.\n",
        "____\n",
        "** Import pandas and read in the Ecommerce Purchases csv file and set it to a DataFrame called ecom. **"
      ]
    },
    {
      "metadata": {
        "id": "tdTV-I7oKDbG",
        "colab_type": "code",
        "colab": {}
      },
      "cell_type": "code",
      "source": [
        "import pandas as pd"
      ],
      "execution_count": 0,
      "outputs": []
    },
    {
      "metadata": {
        "id": "gX5tqIJaKDbL",
        "colab_type": "code",
        "colab": {}
      },
      "cell_type": "code",
      "source": [
        "ecom = pd.read_csv('https://github.com/phamthoidinhthien/ml-practice/raw/master/EcommercePurchases.csv')"
      ],
      "execution_count": 0,
      "outputs": []
    },
    {
      "metadata": {
        "id": "JjqGj4WOKDbO",
        "colab_type": "text"
      },
      "cell_type": "markdown",
      "source": [
        "**Check the head of the DataFrame.**"
      ]
    },
    {
      "metadata": {
        "id": "RF1SCSkQKDbO",
        "colab_type": "code",
        "outputId": "59dad419-c52f-4a84-e43e-61e54c43837b",
        "colab": {
          "base_uri": "https://localhost:8080/",
          "height": 513
        }
      },
      "cell_type": "code",
      "source": [
        "ecom.sample(5)"
      ],
      "execution_count": 0,
      "outputs": [
        {
          "output_type": "execute_result",
          "data": {
            "text/html": [
              "<div>\n",
              "<style scoped>\n",
              "    .dataframe tbody tr th:only-of-type {\n",
              "        vertical-align: middle;\n",
              "    }\n",
              "\n",
              "    .dataframe tbody tr th {\n",
              "        vertical-align: top;\n",
              "    }\n",
              "\n",
              "    .dataframe thead th {\n",
              "        text-align: right;\n",
              "    }\n",
              "</style>\n",
              "<table border=\"1\" class=\"dataframe\">\n",
              "  <thead>\n",
              "    <tr style=\"text-align: right;\">\n",
              "      <th></th>\n",
              "      <th>Address</th>\n",
              "      <th>Lot</th>\n",
              "      <th>AM or PM</th>\n",
              "      <th>Browser Info</th>\n",
              "      <th>Company</th>\n",
              "      <th>Credit Card</th>\n",
              "      <th>CC Exp Date</th>\n",
              "      <th>CC Security Code</th>\n",
              "      <th>CC Provider</th>\n",
              "      <th>Email</th>\n",
              "      <th>Job</th>\n",
              "      <th>IP Address</th>\n",
              "      <th>Language</th>\n",
              "      <th>Purchase Price</th>\n",
              "    </tr>\n",
              "  </thead>\n",
              "  <tbody>\n",
              "    <tr>\n",
              "      <th>2312</th>\n",
              "      <td>751 Matthew Brook Suite 079\\nEast Eric, FM 067...</td>\n",
              "      <td>18 WW</td>\n",
              "      <td>PM</td>\n",
              "      <td>Mozilla/5.0 (compatible; MSIE 5.0; Windows NT ...</td>\n",
              "      <td>Pope and Sons</td>\n",
              "      <td>502064035376</td>\n",
              "      <td>01/18</td>\n",
              "      <td>370</td>\n",
              "      <td>JCB 16 digit</td>\n",
              "      <td>victoriablake@hotmail.com</td>\n",
              "      <td>Journalist, newspaper</td>\n",
              "      <td>201.37.184.10</td>\n",
              "      <td>es</td>\n",
              "      <td>34.97</td>\n",
              "    </tr>\n",
              "    <tr>\n",
              "      <th>6964</th>\n",
              "      <td>7288 Baker Estate\\nCervanteshaven, RI 82149</td>\n",
              "      <td>28 lh</td>\n",
              "      <td>AM</td>\n",
              "      <td>Mozilla/5.0 (Macintosh; U; Intel Mac OS X 10_7...</td>\n",
              "      <td>Martinez Inc</td>\n",
              "      <td>180098150972285</td>\n",
              "      <td>01/26</td>\n",
              "      <td>680</td>\n",
              "      <td>Mastercard</td>\n",
              "      <td>gonzalezoscar@gmail.com</td>\n",
              "      <td>Air traffic controller</td>\n",
              "      <td>3.165.59.79</td>\n",
              "      <td>es</td>\n",
              "      <td>10.21</td>\n",
              "    </tr>\n",
              "    <tr>\n",
              "      <th>463</th>\n",
              "      <td>11840 Janet Ways Suite 373\\nPort David, DC 92922</td>\n",
              "      <td>34 Uj</td>\n",
              "      <td>AM</td>\n",
              "      <td>Mozilla/5.0 (X11; Linux x86_64) AppleWebKit/53...</td>\n",
              "      <td>Alexander, Morgan and Atkinson</td>\n",
              "      <td>4348261385228078</td>\n",
              "      <td>10/18</td>\n",
              "      <td>667</td>\n",
              "      <td>American Express</td>\n",
              "      <td>julie86@jensen.info</td>\n",
              "      <td>English as a foreign language teacher</td>\n",
              "      <td>7.31.249.197</td>\n",
              "      <td>zh</td>\n",
              "      <td>12.00</td>\n",
              "    </tr>\n",
              "    <tr>\n",
              "      <th>379</th>\n",
              "      <td>0925 Henderson Field Apt. 339\\nBatesstad, NV 0...</td>\n",
              "      <td>58 OQ</td>\n",
              "      <td>PM</td>\n",
              "      <td>Mozilla/5.0 (Windows NT 5.1) AppleWebKit/5321 ...</td>\n",
              "      <td>Griffin-Turner</td>\n",
              "      <td>869957373176388</td>\n",
              "      <td>07/19</td>\n",
              "      <td>702</td>\n",
              "      <td>JCB 15 digit</td>\n",
              "      <td>christopher00@ballard.com</td>\n",
              "      <td>Civil engineer, consulting</td>\n",
              "      <td>225.112.212.190</td>\n",
              "      <td>fr</td>\n",
              "      <td>70.29</td>\n",
              "    </tr>\n",
              "    <tr>\n",
              "      <th>147</th>\n",
              "      <td>8573 Emily Center Suite 280\\nNorth Joshua, CT ...</td>\n",
              "      <td>02 nY</td>\n",
              "      <td>AM</td>\n",
              "      <td>Mozilla/5.0 (Macintosh; U; PPC Mac OS X 10_7_8...</td>\n",
              "      <td>Mitchell-Saunders</td>\n",
              "      <td>4206028839791154</td>\n",
              "      <td>01/21</td>\n",
              "      <td>463</td>\n",
              "      <td>Maestro</td>\n",
              "      <td>dfisher@fisher.com</td>\n",
              "      <td>Solicitor</td>\n",
              "      <td>60.198.92.190</td>\n",
              "      <td>fr</td>\n",
              "      <td>58.62</td>\n",
              "    </tr>\n",
              "  </tbody>\n",
              "</table>\n",
              "</div>"
            ],
            "text/plain": [
              "                                                Address    Lot AM or PM  \\\n",
              "2312  751 Matthew Brook Suite 079\\nEast Eric, FM 067...  18 WW       PM   \n",
              "6964        7288 Baker Estate\\nCervanteshaven, RI 82149  28 lh       AM   \n",
              "463    11840 Janet Ways Suite 373\\nPort David, DC 92922  34 Uj       AM   \n",
              "379   0925 Henderson Field Apt. 339\\nBatesstad, NV 0...  58 OQ       PM   \n",
              "147   8573 Emily Center Suite 280\\nNorth Joshua, CT ...  02 nY       AM   \n",
              "\n",
              "                                           Browser Info  \\\n",
              "2312  Mozilla/5.0 (compatible; MSIE 5.0; Windows NT ...   \n",
              "6964  Mozilla/5.0 (Macintosh; U; Intel Mac OS X 10_7...   \n",
              "463   Mozilla/5.0 (X11; Linux x86_64) AppleWebKit/53...   \n",
              "379   Mozilla/5.0 (Windows NT 5.1) AppleWebKit/5321 ...   \n",
              "147   Mozilla/5.0 (Macintosh; U; PPC Mac OS X 10_7_8...   \n",
              "\n",
              "                             Company       Credit Card CC Exp Date  \\\n",
              "2312                   Pope and Sons      502064035376       01/18   \n",
              "6964                    Martinez Inc   180098150972285       01/26   \n",
              "463   Alexander, Morgan and Atkinson  4348261385228078       10/18   \n",
              "379                   Griffin-Turner   869957373176388       07/19   \n",
              "147                Mitchell-Saunders  4206028839791154       01/21   \n",
              "\n",
              "      CC Security Code       CC Provider                      Email  \\\n",
              "2312               370      JCB 16 digit  victoriablake@hotmail.com   \n",
              "6964               680        Mastercard    gonzalezoscar@gmail.com   \n",
              "463                667  American Express        julie86@jensen.info   \n",
              "379                702      JCB 15 digit  christopher00@ballard.com   \n",
              "147                463           Maestro         dfisher@fisher.com   \n",
              "\n",
              "                                        Job       IP Address Language  \\\n",
              "2312                  Journalist, newspaper    201.37.184.10       es   \n",
              "6964                 Air traffic controller      3.165.59.79       es   \n",
              "463   English as a foreign language teacher     7.31.249.197       zh   \n",
              "379              Civil engineer, consulting  225.112.212.190       fr   \n",
              "147                               Solicitor    60.198.92.190       fr   \n",
              "\n",
              "      Purchase Price  \n",
              "2312           34.97  \n",
              "6964           10.21  \n",
              "463            12.00  \n",
              "379            70.29  \n",
              "147            58.62  "
            ]
          },
          "metadata": {
            "tags": []
          },
          "execution_count": 47
        }
      ]
    },
    {
      "metadata": {
        "id": "xlUrVATyKDbS",
        "colab_type": "text"
      },
      "cell_type": "markdown",
      "source": [
        "** How many rows and columns are there? **"
      ]
    },
    {
      "metadata": {
        "id": "EaEsjtReKDbS",
        "colab_type": "code",
        "outputId": "08a9f56b-3a8e-4af9-8eb4-5e4e01fddaea",
        "colab": {
          "base_uri": "https://localhost:8080/",
          "height": 34
        }
      },
      "cell_type": "code",
      "source": [
        "ecom.shape"
      ],
      "execution_count": 0,
      "outputs": [
        {
          "output_type": "execute_result",
          "data": {
            "text/plain": [
              "(10000, 14)"
            ]
          },
          "metadata": {
            "tags": []
          },
          "execution_count": 48
        }
      ]
    },
    {
      "metadata": {
        "id": "ISO1AVQgKDbV",
        "colab_type": "text"
      },
      "cell_type": "markdown",
      "source": [
        "** What is the average Purchase Price? **"
      ]
    },
    {
      "metadata": {
        "id": "6Rhlv_3QKDbW",
        "colab_type": "code",
        "outputId": "1b7f68a2-451d-4f22-c90e-b401551410c0",
        "colab": {
          "base_uri": "https://localhost:8080/",
          "height": 34
        }
      },
      "cell_type": "code",
      "source": [
        "ecom['Purchase Price'].mean()"
      ],
      "execution_count": 0,
      "outputs": [
        {
          "output_type": "execute_result",
          "data": {
            "text/plain": [
              "50.347302"
            ]
          },
          "metadata": {
            "tags": []
          },
          "execution_count": 49
        }
      ]
    },
    {
      "metadata": {
        "id": "E3i_87pwKDbY",
        "colab_type": "text"
      },
      "cell_type": "markdown",
      "source": [
        "** What were the highest and lowest purchase prices? **"
      ]
    },
    {
      "metadata": {
        "id": "YkEr_yzIKDbZ",
        "colab_type": "code",
        "outputId": "ac4f26f5-28e1-41c6-a6cb-b14070ec7daf",
        "colab": {
          "base_uri": "https://localhost:8080/",
          "height": 34
        }
      },
      "cell_type": "code",
      "source": [
        "ecom['Purchase Price'].max()"
      ],
      "execution_count": 0,
      "outputs": [
        {
          "output_type": "execute_result",
          "data": {
            "text/plain": [
              "99.99"
            ]
          },
          "metadata": {
            "tags": []
          },
          "execution_count": 50
        }
      ]
    },
    {
      "metadata": {
        "id": "vfFdKpdyKDbb",
        "colab_type": "code",
        "outputId": "d78fff5b-2a6b-4da1-ed34-f007d28bd5a4",
        "colab": {
          "base_uri": "https://localhost:8080/",
          "height": 34
        }
      },
      "cell_type": "code",
      "source": [
        "ecom['Purchase Price'].min()"
      ],
      "execution_count": 0,
      "outputs": [
        {
          "output_type": "execute_result",
          "data": {
            "text/plain": [
              "0.0"
            ]
          },
          "metadata": {
            "tags": []
          },
          "execution_count": 51
        }
      ]
    },
    {
      "metadata": {
        "id": "2r7u2G8kKDbf",
        "colab_type": "text"
      },
      "cell_type": "markdown",
      "source": [
        "** How many people have English 'en' as their Language of choice on the website? **"
      ]
    },
    {
      "metadata": {
        "id": "_mar9BAFKDbk",
        "colab_type": "code",
        "outputId": "68790bd0-f7cf-406e-ba20-dee28f64766d",
        "colab": {
          "base_uri": "https://localhost:8080/",
          "height": 34
        }
      },
      "cell_type": "code",
      "source": [
        "sum(ecom['Language']=='en')"
      ],
      "execution_count": 0,
      "outputs": [
        {
          "output_type": "execute_result",
          "data": {
            "text/plain": [
              "1098"
            ]
          },
          "metadata": {
            "tags": []
          },
          "execution_count": 52
        }
      ]
    },
    {
      "metadata": {
        "id": "4oZqxSIyKDbn",
        "colab_type": "text"
      },
      "cell_type": "markdown",
      "source": [
        "** How many people have the job title of \"Lawyer\" ? **\n"
      ]
    },
    {
      "metadata": {
        "id": "-A85riGfKDbp",
        "colab_type": "code",
        "outputId": "8e294dca-d414-452b-bbd7-395025cb9916",
        "colab": {
          "base_uri": "https://localhost:8080/",
          "height": 34
        }
      },
      "cell_type": "code",
      "source": [
        "sum(ecom.Job=='Lawyer')"
      ],
      "execution_count": 0,
      "outputs": [
        {
          "output_type": "execute_result",
          "data": {
            "text/plain": [
              "30"
            ]
          },
          "metadata": {
            "tags": []
          },
          "execution_count": 53
        }
      ]
    },
    {
      "metadata": {
        "id": "_5U7NNu8KDbr",
        "colab_type": "text"
      },
      "cell_type": "markdown",
      "source": [
        "** How many people made the purchase during the AM and how many people made the purchase during PM ? **\n",
        "\n",
        "**(Hint: Check out [value_counts()](http://pandas.pydata.org/pandas-docs/stable/generated/pandas.Series.value_counts.html) ) **"
      ]
    },
    {
      "metadata": {
        "id": "tvD8KS1vKDbs",
        "colab_type": "code",
        "outputId": "c1fd6058-3c36-433e-f193-2fb39ff62560",
        "colab": {
          "base_uri": "https://localhost:8080/",
          "height": 68
        }
      },
      "cell_type": "code",
      "source": [
        "ecom['AM or PM'].value_counts()"
      ],
      "execution_count": 0,
      "outputs": [
        {
          "output_type": "execute_result",
          "data": {
            "text/plain": [
              "PM    5068\n",
              "AM    4932\n",
              "Name: AM or PM, dtype: int64"
            ]
          },
          "metadata": {
            "tags": []
          },
          "execution_count": 54
        }
      ]
    },
    {
      "metadata": {
        "id": "OGfAngEhKDbv",
        "colab_type": "text"
      },
      "cell_type": "markdown",
      "source": [
        "** What are the 5 most common Job Titles? **"
      ]
    },
    {
      "metadata": {
        "id": "XEPe1vzgKDbw",
        "colab_type": "code",
        "outputId": "bc975a44-c22e-48c5-e886-c6d33cffc979",
        "colab": {
          "base_uri": "https://localhost:8080/",
          "height": 119
        }
      },
      "cell_type": "code",
      "source": [
        "ecom['Job'].value_counts().head()"
      ],
      "execution_count": 0,
      "outputs": [
        {
          "output_type": "execute_result",
          "data": {
            "text/plain": [
              "Interior and spatial designer    31\n",
              "Lawyer                           30\n",
              "Social researcher                28\n",
              "Designer, jewellery              27\n",
              "Purchasing manager               27\n",
              "Name: Job, dtype: int64"
            ]
          },
          "metadata": {
            "tags": []
          },
          "execution_count": 55
        }
      ]
    },
    {
      "metadata": {
        "id": "z6vTthGoKDbx",
        "colab_type": "text"
      },
      "cell_type": "markdown",
      "source": [
        "** Someone made a purchase that came from Lot: \"90 WT\" , what was the Purchase Price for this transaction? **"
      ]
    },
    {
      "metadata": {
        "id": "Y7BYncJfKDbz",
        "colab_type": "code",
        "outputId": "3beb12ca-c573-4453-ff78-ccb365f22a79",
        "colab": {
          "base_uri": "https://localhost:8080/",
          "height": 51
        }
      },
      "cell_type": "code",
      "source": [
        "ecom['Purchase Price'][ecom['Lot']=='90 WT']"
      ],
      "execution_count": 0,
      "outputs": [
        {
          "output_type": "execute_result",
          "data": {
            "text/plain": [
              "513    75.1\n",
              "Name: Purchase Price, dtype: float64"
            ]
          },
          "metadata": {
            "tags": []
          },
          "execution_count": 56
        }
      ]
    },
    {
      "metadata": {
        "id": "xC2EUEMOKDb1",
        "colab_type": "text"
      },
      "cell_type": "markdown",
      "source": [
        "** What is the email of the person with the following Credit Card Number: 4926535242672853 **"
      ]
    },
    {
      "metadata": {
        "id": "DvcQQhHvKDb1",
        "colab_type": "code",
        "outputId": "b9c19330-f1f6-4150-ccf9-4ddfe541d573",
        "colab": {
          "base_uri": "https://localhost:8080/",
          "height": 51
        }
      },
      "cell_type": "code",
      "source": [
        "ecom['Email'][ecom['Credit Card']==4926535242672853]"
      ],
      "execution_count": 0,
      "outputs": [
        {
          "output_type": "execute_result",
          "data": {
            "text/plain": [
              "1234    bondellen@williams-garza.com\n",
              "Name: Email, dtype: object"
            ]
          },
          "metadata": {
            "tags": []
          },
          "execution_count": 57
        }
      ]
    },
    {
      "metadata": {
        "id": "_iValpYhKDb3",
        "colab_type": "text"
      },
      "cell_type": "markdown",
      "source": [
        "** How many people have American Express as their Credit Card Provider *and* made a purchase above $95 ?**"
      ]
    },
    {
      "metadata": {
        "id": "ADreeapbKDb3",
        "colab_type": "code",
        "outputId": "4570a7c2-4543-4993-878c-8167bbfaebbd",
        "colab": {
          "base_uri": "https://localhost:8080/",
          "height": 34
        }
      },
      "cell_type": "code",
      "source": [
        "ecom['Email'][(ecom['CC Provider']=='American Express') & (ecom['Purchase Price']>95)].nunique()"
      ],
      "execution_count": 0,
      "outputs": [
        {
          "output_type": "execute_result",
          "data": {
            "text/plain": [
              "39"
            ]
          },
          "metadata": {
            "tags": []
          },
          "execution_count": 58
        }
      ]
    },
    {
      "metadata": {
        "id": "K11yfQhIKDb-",
        "colab_type": "text"
      },
      "cell_type": "markdown",
      "source": [
        "** Hard: How many people have a credit card that expires in 2025? **"
      ]
    },
    {
      "metadata": {
        "id": "x9p034AEKDcA",
        "colab_type": "code",
        "outputId": "591a8f83-afd5-4986-9908-b06b7c9ae087",
        "colab": {
          "base_uri": "https://localhost:8080/",
          "height": 34
        }
      },
      "cell_type": "code",
      "source": [
        "sum(ecom['CC Exp Date'].str.split('/').str[1]=='25')"
      ],
      "execution_count": 0,
      "outputs": [
        {
          "output_type": "execute_result",
          "data": {
            "text/plain": [
              "1033"
            ]
          },
          "metadata": {
            "tags": []
          },
          "execution_count": 80
        }
      ]
    },
    {
      "metadata": {
        "id": "ZoM6mK5oKDcE",
        "colab_type": "text"
      },
      "cell_type": "markdown",
      "source": [
        "** Hard: What are the top 5 most popular email providers/hosts (e.g. gmail.com, yahoo.com, etc...) **"
      ]
    },
    {
      "metadata": {
        "id": "eRHeQrT8KDcI",
        "colab_type": "code",
        "outputId": "447d1bc5-fd9d-4fc3-94d0-4eaf000d826b",
        "colab": {
          "base_uri": "https://localhost:8080/",
          "height": 119
        }
      },
      "cell_type": "code",
      "source": [
        "ecom['Email'].str.split('@').str[1].value_counts().head()"
      ],
      "execution_count": 0,
      "outputs": [
        {
          "output_type": "execute_result",
          "data": {
            "text/plain": [
              "hotmail.com     1638\n",
              "yahoo.com       1616\n",
              "gmail.com       1605\n",
              "smith.com         42\n",
              "williams.com      37\n",
              "Name: Email, dtype: int64"
            ]
          },
          "metadata": {
            "tags": []
          },
          "execution_count": 83
        }
      ]
    },
    {
      "metadata": {
        "id": "qa9yLSsIKDcK",
        "colab_type": "text"
      },
      "cell_type": "markdown",
      "source": [
        "### Data Visualization\n",
        "\n",
        "** Implement a bar plot for top 5 most popular email providers/hosts **"
      ]
    },
    {
      "metadata": {
        "id": "yEIOTqCBKDcL",
        "colab_type": "code",
        "outputId": "3a3faf52-9bb2-4ecc-e096-24eb8a4daf2a",
        "colab": {
          "base_uri": "https://localhost:8080/",
          "height": 364
        }
      },
      "cell_type": "code",
      "source": [
        "ecom['Email'].str.split('@').str[1].value_counts().head().plot(kind='barh')"
      ],
      "execution_count": 0,
      "outputs": [
        {
          "output_type": "execute_result",
          "data": {
            "text/plain": [
              "<matplotlib.axes._subplots.AxesSubplot at 0x7ff673cd1128>"
            ]
          },
          "metadata": {
            "tags": []
          },
          "execution_count": 86
        },
        {
          "output_type": "display_data",
          "data": {
            "image/png": "[encoded data removed]",
            "text/plain": [
              "<matplotlib.figure.Figure at 0x7ff673c31c50>"
            ]
          },
          "metadata": {
            "tags": []
          }
        }
      ]
    },
    {
      "metadata": {
        "id": "hQ6NunErKDcN",
        "colab_type": "text"
      },
      "cell_type": "markdown",
      "source": [
        "** Plot distribution of Purchase Price **"
      ]
    },
    {
      "metadata": {
        "id": "c-ydH_fzKDcN",
        "colab_type": "code",
        "outputId": "2e2c782c-12b6-45c8-cdff-57d0d90a78c0",
        "colab": {
          "base_uri": "https://localhost:8080/",
          "height": 378
        }
      },
      "cell_type": "code",
      "source": [
        "import seaborn as sns\n",
        "\n",
        "sns.distplot(ecom['Purchase Price'])"
      ],
      "execution_count": 0,
      "outputs": [
        {
          "output_type": "execute_result",
          "data": {
            "text/plain": [
              "<matplotlib.axes._subplots.AxesSubplot at 0x7ff673e1f4e0>"
            ]
          },
          "metadata": {
            "tags": []
          },
          "execution_count": 90
        },
        {
          "output_type": "display_data",
          "data": {
            "image/png": "[encoded data removed]",
            "text/plain": [
              "<matplotlib.figure.Figure at 0x7ff673bb96a0>"
            ]
          },
          "metadata": {
            "tags": []
          }
        }
      ]
    },
    {
      "metadata": {
        "id": "mFT9rtgHKDcR",
        "colab_type": "text"
      },
      "cell_type": "markdown",
      "source": [
        "** Implement countplot on Language **"
      ]
    },
    {
      "metadata": {
        "id": "j6JbHEP7KDcS",
        "colab_type": "code",
        "outputId": "2982d710-8a19-41c2-9c27-9578e3e327ae",
        "colab": {
          "base_uri": "https://localhost:8080/",
          "height": 433
        }
      },
      "cell_type": "code",
      "source": [
        "sns.countplot(x='Language',data=ecom)"
      ],
      "execution_count": 0,
      "outputs": [
        {
          "output_type": "stream",
          "text": [
            "/usr/local/lib/python3.6/dist-packages/seaborn/categorical.py:1428: FutureWarning: remove_na is deprecated and is a private function. Do not use.\n",
            "  stat_data = remove_na(group_data)\n"
          ],
          "name": "stderr"
        },
        {
          "output_type": "execute_result",
          "data": {
            "text/plain": [
              "<matplotlib.axes._subplots.AxesSubplot at 0x7ff673b45588>"
            ]
          },
          "metadata": {
            "tags": []
          },
          "execution_count": 91
        },
        {
          "output_type": "display_data",
          "data": {
            "image/png": "[encoded data removed]",
            "text/plain": [
              "<matplotlib.figure.Figure at 0x7ff673e1fbe0>"
            ]
          },
          "metadata": {
            "tags": []
          }
        }
      ]
    },
    {
      "metadata": {
        "id": "_Wha3HQEKDcU",
        "colab_type": "code",
        "colab": {}
      },
      "cell_type": "code",
      "source": [
        ""
      ],
      "execution_count": 0,
      "outputs": []
    },
    {
      "metadata": {
        "id": "ulzXP6vZKDcX",
        "colab_type": "code",
        "colab": {}
      },
      "cell_type": "code",
      "source": [
        "Feel free to plot more graphs to dive deeper into the dataset."
      ],
      "execution_count": 0,
      "outputs": []
    },
    {
      "metadata": {
        "id": "WgZg7Q9kKDca",
        "colab_type": "text"
      },
      "cell_type": "markdown",
      "source": [
        "# Great Job!"
      ]
    }
  ]
}