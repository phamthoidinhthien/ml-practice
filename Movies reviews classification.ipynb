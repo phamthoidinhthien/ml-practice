{
 "cells": [
  {
   "cell_type": "markdown",
   "metadata": {},
   "source": [
    "## Movie reviews classification\n",
    "The labeled dataset consists of 50,000 IMDB movie reviews, specially selected for sentiment analysis. \n",
    "\n",
    "* The IMDB rating < 5: 0 \n",
    "* The IMDB rating >=7: 1\n",
    "\n",
    "No individual movie has more than 30 reviews. The 25,000 reviews labeled training set does not include any of the same movies as the 25,000 review test set.\n",
    "\n"
   ]
  },
  {
   "cell_type": "code",
   "execution_count": 28,
   "metadata": {},
   "outputs": [],
   "source": [
    "import pandas as pd\n",
    "import numpy as np\n",
    "import seaborn as sns"
   ]
  },
  {
   "cell_type": "code",
   "execution_count": 51,
   "metadata": {},
   "outputs": [],
   "source": [
    "review = pd.read_csv('~/Documents/ml/Sentiment Analysis/labeledTrainData.tsv',sep='\\t')"
   ]
  },
  {
   "cell_type": "code",
   "execution_count": 65,
   "metadata": {},
   "outputs": [
    {
     "name": "stdout",
     "output_type": "stream",
     "text": [
      "(25000, 3)\n"
     ]
    },
    {
     "data": {
      "text/html": [
       "<div>\n",
       "<style scoped>\n",
       "    .dataframe tbody tr th:only-of-type {\n",
       "        vertical-align: middle;\n",
       "    }\n",
       "\n",
       "    .dataframe tbody tr th {\n",
       "        vertical-align: top;\n",
       "    }\n",
       "\n",
       "    .dataframe thead th {\n",
       "        text-align: right;\n",
       "    }\n",
       "</style>\n",
       "<table border=\"1\" class=\"dataframe\">\n",
       "  <thead>\n",
       "    <tr style=\"text-align: right;\">\n",
       "      <th></th>\n",
       "      <th>id</th>\n",
       "      <th>sentiment</th>\n",
       "      <th>review</th>\n",
       "    </tr>\n",
       "  </thead>\n",
       "  <tbody>\n",
       "    <tr>\n",
       "      <th>3625</th>\n",
       "      <td>8616_8</td>\n",
       "      <td>1</td>\n",
       "      <td>What if a platoon of G.I.'s from the Japanese ...</td>\n",
       "    </tr>\n",
       "    <tr>\n",
       "      <th>20016</th>\n",
       "      <td>8561_3</td>\n",
       "      <td>0</td>\n",
       "      <td>The Cowboys could leave you a little sore in t...</td>\n",
       "    </tr>\n",
       "    <tr>\n",
       "      <th>12737</th>\n",
       "      <td>94_10</td>\n",
       "      <td>1</td>\n",
       "      <td>I am a huge John Denver fan. I have a large co...</td>\n",
       "    </tr>\n",
       "    <tr>\n",
       "      <th>20851</th>\n",
       "      <td>12313_10</td>\n",
       "      <td>1</td>\n",
       "      <td>For long time I haven't seen such a good fanta...</td>\n",
       "    </tr>\n",
       "    <tr>\n",
       "      <th>9020</th>\n",
       "      <td>8424_9</td>\n",
       "      <td>1</td>\n",
       "      <td>That's My Bush is a live action project made b...</td>\n",
       "    </tr>\n",
       "    <tr>\n",
       "      <th>10723</th>\n",
       "      <td>7363_4</td>\n",
       "      <td>0</td>\n",
       "      <td>The only reason I saw \\Shakedown\\\" was that it...</td>\n",
       "    </tr>\n",
       "    <tr>\n",
       "      <th>16671</th>\n",
       "      <td>4196_9</td>\n",
       "      <td>1</td>\n",
       "      <td>This crime thriller is sort of like a film noi...</td>\n",
       "    </tr>\n",
       "    <tr>\n",
       "      <th>12100</th>\n",
       "      <td>9298_9</td>\n",
       "      <td>1</td>\n",
       "      <td>Simply, one of the funiest movies i've ever se...</td>\n",
       "    </tr>\n",
       "    <tr>\n",
       "      <th>24719</th>\n",
       "      <td>6227_7</td>\n",
       "      <td>1</td>\n",
       "      <td>Definitely one of the lesser of the Astaire/Ro...</td>\n",
       "    </tr>\n",
       "    <tr>\n",
       "      <th>14005</th>\n",
       "      <td>3596_2</td>\n",
       "      <td>0</td>\n",
       "      <td>To be as honest as I possibly can, The Devil's...</td>\n",
       "    </tr>\n",
       "  </tbody>\n",
       "</table>\n",
       "</div>"
      ],
      "text/plain": [
       "             id  sentiment                                             review\n",
       "3625     8616_8          1  What if a platoon of G.I.'s from the Japanese ...\n",
       "20016    8561_3          0  The Cowboys could leave you a little sore in t...\n",
       "12737     94_10          1  I am a huge John Denver fan. I have a large co...\n",
       "20851  12313_10          1  For long time I haven't seen such a good fanta...\n",
       "9020     8424_9          1  That's My Bush is a live action project made b...\n",
       "10723    7363_4          0  The only reason I saw \\Shakedown\\\" was that it...\n",
       "16671    4196_9          1  This crime thriller is sort of like a film noi...\n",
       "12100    9298_9          1  Simply, one of the funiest movies i've ever se...\n",
       "24719    6227_7          1  Definitely one of the lesser of the Astaire/Ro...\n",
       "14005    3596_2          0  To be as honest as I possibly can, The Devil's..."
      ]
     },
     "execution_count": 65,
     "metadata": {},
     "output_type": "execute_result"
    }
   ],
   "source": [
    "print(review.shape)\n",
    "review.sample(10)\n"
   ]
  },
  {
   "cell_type": "markdown",
   "metadata": {},
   "source": [
    "### How many movies are rating good and bad in the training data set?"
   ]
  },
  {
   "cell_type": "code",
   "execution_count": 35,
   "metadata": {},
   "outputs": [
    {
     "name": "stdout",
     "output_type": "stream",
     "text": [
      "1    12500\n",
      "0    12500\n",
      "Name: sentiment, dtype: int64\n"
     ]
    },
    {
     "data": {
      "image/png": "[encoded data removed]",
      "text/plain": [
       "<Figure size 432x288 with 1 Axes>"
      ]
     },
     "metadata": {
      "needs_background": "light"
     },
     "output_type": "display_data"
    }
   ],
   "source": [
    "sns.countplot(x='sentiment',data=review)\n",
    "print(review.sentiment.value_counts())"
   ]
  },
  {
   "cell_type": "markdown",
   "metadata": {},
   "source": [
    "There 25000 observation which splitted equally between good and bad reviews"
   ]
  },
  {
   "cell_type": "markdown",
   "metadata": {},
   "source": [
    "## Data clean up\n",
    "Let's see top common word in our dataset"
   ]
  },
  {
   "cell_type": "code",
   "execution_count": 79,
   "metadata": {},
   "outputs": [
    {
     "name": "stdout",
     "output_type": "stream",
     "text": [
      "[('the', 322198), ('a', 159949), ('and', 158572), ('of', 144462), ('to', 133967), ('is', 104170), ('in', 90527), ('i', 70480), ('this', 69711), ('that', 66292), ('it', 65495), ('/><br', 50935), ('was', 47024), ('as', 45102), ('for', 42843), ('with', 42729), ('but', 39764), ('on', 31618), ('movie', 30879), ('his', 29059), ('are', 28743), ('not', 28596), ('film', 27772), ('you', 27563), ('have', 27344), ('he', 26177), ('be', 25691), ('at', 22731), ('one', 22476), ('by', 21976)]\n"
     ]
    }
   ],
   "source": [
    "from collections import Counter\n",
    "\n",
    "vocab = Counter()\n",
    "for sentence in review['review']:\n",
    "    for word in sentence.lower().split():\n",
    "        vocab[word]+=1\n",
    "print(vocab.most_common(30))        "
   ]
  },
  {
   "cell_type": "markdown",
   "metadata": {},
   "source": [
    "Look like there a lot of stop word and html markup in the review.\n",
    "Let's try to remove them\n",
    "\n",
    "### Removing stop words & html markup\n",
    "\n",
    "##### Removing stop words"
   ]
  },
  {
   "cell_type": "code",
   "execution_count": 80,
   "metadata": {},
   "outputs": [
    {
     "name": "stdout",
     "output_type": "stream",
     "text": [
      "[('/><br', 50935), ('movie', 30879), ('film', 27772), ('one', 22476), ('like', 18779), ('would', 12026), ('even', 12010), ('good', 11924), ('really', 11065), ('see', 10410), ('-', 9355), ('get', 8959), ('story', 8742), ('much', 8739), ('also', 8007), ('first', 7985), ('time', 7944), ('great', 7713), ('people', 7676), ('could', 7594), ('make', 7590), ('/>the', 7409), ('made', 7041), ('bad', 6816), ('think', 6773), ('many', 6388), ('never', 6319), ('two', 6209), ('little', 6122), ('well', 5854)]\n"
     ]
    }
   ],
   "source": [
    "# import nltk\n",
    "# nltk.download('stopwords')\n",
    "\n",
    "from nltk.corpus import stopwords\n",
    "stop = stopwords.words('english')\n",
    "\n",
    "vocab_reduced = Counter()\n",
    "\n",
    "for key,value in vocab.items():\n",
    "    if key not in stop:\n",
    "        vocab_reduced[key]=value\n",
    "\n",
    "print(vocab_reduced.most_common(30))        "
   ]
  },
  {
   "cell_type": "markdown",
   "metadata": {},
   "source": [
    "##### Removing html markup"
   ]
  },
  {
   "cell_type": "code",
   "execution_count": 181,
   "metadata": {},
   "outputs": [],
   "source": [
    "#Removing html markup, save and normalize emoticon\n",
    "import re\n",
    "def preprocessor(text):\n",
    "    # Remove HTML markup\n",
    "    text = re.sub('<[^>]*>', '', text)\n",
    "    # Save emoticons for later appending\n",
    "    emoticons = re.findall('(?::|;|=)(?:-)?(?:\\)|\\(|d|p)', text)\n",
    "    # Remove any non-word character and append the emoticons,\n",
    "    # removing the nose character for standarization. Convert to lower case\n",
    "    text = (re.sub('[\\W]+', ' ', text.lower()) + ' ' + ' '.join(emoticons).replace('-', ''))\n",
    "    \n",
    "    return text"
   ]
  },
  {
   "cell_type": "markdown",
   "metadata": {},
   "source": [
    "Let's check again to see if we can clear the html markup"
   ]
  },
  {
   "cell_type": "code",
   "execution_count": 86,
   "metadata": {},
   "outputs": [],
   "source": [
    "new_vocab = Counter()\n",
    "for sentence in review['review']:\n",
    "    sentence = preprocessor(sentence)\n",
    "    for word in sentence.lower().split():\n",
    "        if word not in stop:\n",
    "            new_vocab[word]+=1"
   ]
  },
  {
   "cell_type": "code",
   "execution_count": 90,
   "metadata": {},
   "outputs": [
    {
     "name": "stdout",
     "output_type": "stream",
     "text": [
      "[('movie', 44029), ('film', 40144), ('one', 26788), ('like', 20274), ('good', 15140), ('time', 12723), ('even', 12645), ('would', 12436), ('story', 11981), ('really', 11735), ('see', 11475), ('well', 10661), ('much', 9763), ('get', 9309), ('bad', 9301), ('people', 9285), ('also', 9156), ('first', 9061), ('great', 9057), ('made', 8362), ('way', 8026), ('make', 8022), ('could', 7919), ('movies', 7663), ('think', 7295), ('characters', 7154), ('character', 7023), ('watch', 6971), ('two', 6905), ('films', 6887), ('seen', 6679), ('many', 6675), ('life', 6628), ('plot', 6585), ('acting', 6490), ('never', 6484), ('love', 6453), ('little', 6435), ('best', 6416), ('show', 6294), ('know', 6166), ('ever', 5989), ('man', 5979), ('better', 5737), ('end', 5648), ('still', 5622), ('say', 5395), ('scene', 5378), ('scenes', 5207), ('go', 5156), ('something', 5076), ('back', 4972), ('real', 4735), ('watching', 4602), ('though', 4566), ('old', 4525), ('thing', 4521), ('years', 4514), ('actors', 4486), ('director', 4444), ('work', 4372), ('another', 4324), ('new', 4309), ('nothing', 4290), ('funny', 4288), ('10', 4283), ('actually', 4237), ('makes', 4202), ('look', 4145), ('find', 4131), ('going', 4101), ('part', 4031), ('lot', 3979), ('every', 3976), ('world', 3835), ('cast', 3828), ('us', 3791), ('quite', 3738), ('want', 3702), ('things', 3688), ('pretty', 3664), ('young', 3660), ('seems', 3618), ('around', 3616), ('horror', 3590), ('got', 3583), ('however', 3537), ('fact', 3522), ('take', 3507), ('big', 3477), ('enough', 3452), ('long', 3449), ('thought', 3437), ('series', 3416), ('may', 3386), ('give', 3376), ('original', 3376), ('action', 3353), ('right', 3313), ('without', 3267)]\n"
     ]
    }
   ],
   "source": [
    "print(new_vocab.most_common(100))"
   ]
  },
  {
   "cell_type": "markdown",
   "metadata": {},
   "source": [
    "The result look goods. One step need to be done. We must stem the word to its root form.\n",
    "\n",
    "##### Stemming words"
   ]
  },
  {
   "cell_type": "code",
   "execution_count": 213,
   "metadata": {},
   "outputs": [],
   "source": [
    "from nltk.stem import PorterStemmer\n",
    "\n",
    "porter = PorterStemmer()\n",
    "\n",
    "def tokenizer_porter(text):\n",
    "    text = re.sub('[., |;?!]',' ',text)\n",
    "    words = text.split()\n",
    "    return [porter.stem(word) for word in words]"
   ]
  },
  {
   "cell_type": "markdown",
   "metadata": {},
   "source": [
    "Check the dictionary after stemming"
   ]
  },
  {
   "cell_type": "code",
   "execution_count": 212,
   "metadata": {},
   "outputs": [
    {
     "ename": "SyntaxError",
     "evalue": "invalid syntax (<ipython-input-212-134fbdee5146>, line 5)",
     "output_type": "error",
     "traceback": [
      "\u001b[0;36m  File \u001b[0;32m\"<ipython-input-212-134fbdee5146>\"\u001b[0;36m, line \u001b[0;32m5\u001b[0m\n\u001b[0;31m    [new_vocab[word] = new_vocab[word] + 1 for word in sentence if word not in stop]\u001b[0m\n\u001b[0m                     ^\u001b[0m\n\u001b[0;31mSyntaxError\u001b[0m\u001b[0;31m:\u001b[0m invalid syntax\n"
     ]
    }
   ],
   "source": [
    "new_vocab = Counter()\n",
    "for sentence in review['review']:\n",
    "    sentence = preprocessor(sentence)\n",
    "    sentence = tokenizer_porter(sentence)\n",
    "    for word in sentence:\n",
    "        if word not in stop:\n",
    "            new_vocab[word]+=1"
   ]
  },
  {
   "cell_type": "code",
   "execution_count": 175,
   "metadata": {},
   "outputs": [
    {
     "name": "stdout",
     "output_type": "stream",
     "text": [
      "[('thi', 75982), ('movi', 51694), ('wa', 48201), ('film', 48188), ('hi', 29426), ('one', 27741), ('like', 22799), ('ha', 16970), ('time', 16190), ('good', 15360), ('make', 15206), ('charact', 14178), ('get', 14140), ('see', 14111), ('veri', 14063), ('watch', 13938), ('stori', 13166), ('even', 12906), ('would', 12436), ('onli', 11915), ('realli', 11735), ('well', 11041), ('scene', 10586), ('look', 10051), ('show', 9877), ('much', 9763), ('end', 9651), ('peopl', 9391), ('bad', 9344), ('go', 9304), ('great', 9170), ('also', 9156), ('first', 9062), ('becaus', 9045), ('love', 9025), ('think', 8912), ('way', 8830), ('act', 8794), ('play', 8730), ('made', 8362), ('thing', 8209), ('could', 7919), ('ani', 7659), ('know', 7514), ('say', 7457), ('seem', 7220), ('work', 7101), ('plot', 6967), ('two', 6907), ('actor', 6876), ('year', 6874), ('come', 6747), ('mani', 6688), ('seen', 6681), ('take', 6654), ('life', 6640), ('want', 6639), ('never', 6484), ('littl', 6435), ('best', 6424), ('tri', 6356), ('man', 6033), ('ever', 5999), ('doe', 5962), ('give', 5792), ('better', 5749), ('still', 5663), ('perform', 5528), ('find', 5449), ('whi', 5318), ('feel', 5300), ('part', 5247), ('back', 5133), ('use', 5123), ('someth', 5122), ('director', 5120), ('actual', 5065), ('interest', 4893), ('lot', 4778), ('real', 4739), ('old', 4583), ('cast', 4572), ('though', 4566), ('live', 4477), ('star', 4447), ('enjoy', 4352), ('guy', 4339), ('anoth', 4325), ('befor', 4320), ('new', 4314), ('role', 4300), ('noth', 4296), ('10', 4289), ('funni', 4288), ('music', 4247), ('point', 4238), ('start', 4165), ('set', 4116), ('girl', 4064), ('origin', 4044)]\n"
     ]
    }
   ],
   "source": [
    "print(new_vocab.most_common(100))"
   ]
  },
  {
   "cell_type": "markdown",
   "metadata": {},
   "source": [
    "Looking great!!"
   ]
  },
  {
   "cell_type": "markdown",
   "metadata": {},
   "source": [
    "## Training the model using Logistic Regression"
   ]
  },
  {
   "cell_type": "code",
   "execution_count": 178,
   "metadata": {},
   "outputs": [],
   "source": [
    "from sklearn.model_selection import train_test_split\n",
    "\n",
    "X_train,X_test,y_train,y_test = train_test_split(review['review'],review['sentiment'],test_size = 0.3,random_state=13)"
   ]
  },
  {
   "cell_type": "code",
   "execution_count": 200,
   "metadata": {},
   "outputs": [
    {
     "name": "stderr",
     "output_type": "stream",
     "text": [
      "/anaconda3/lib/python3.7/site-packages/sklearn/feature_extraction/text.py:300: UserWarning: Your stop_words may be inconsistent with your preprocessing. Tokenizing the stop words generated tokens ['abov', 'ani', 'becaus', 'befor', 'doe', 'dure', 'ha', 'hi', 'onc', 'onli', 'ourselv', 'themselv', 'thi', 'veri', 'wa', 'whi', 'yourselv'] not in stop_words.\n",
      "  'stop_words.' % sorted(inconsistent))\n"
     ]
    },
    {
     "data": {
      "text/plain": [
       "Pipeline(memory=None,\n",
       "     steps=[('vect', TfidfVectorizer(analyzer='word', binary=False, decode_error='strict',\n",
       "        dtype=<class 'numpy.float64'>, encoding='utf-8', input='content',\n",
       "        lowercase=True, max_df=1.0, max_features=None, min_df=1,\n",
       "        ngram_range=(1, 1), norm='l2',\n",
       "        preprocessor=<function prepr...e, penalty='l2', random_state=0, solver='warn',\n",
       "          tol=0.0001, verbose=0, warm_start=False))])"
      ]
     },
     "execution_count": 200,
     "metadata": {},
     "output_type": "execute_result"
    }
   ],
   "source": [
    "from sklearn.pipeline import Pipeline\n",
    "from sklearn.linear_model import LogisticRegression\n",
    "from sklearn.feature_extraction.text import  TfidfVectorizer\n",
    "\n",
    "tfidf = TfidfVectorizer(stop_words = stop, tokenizer = tokenizer_porter, preprocessor = preprocessor)\n",
    "# tfidf = TfidfVectorizer(stop_words=stop,\n",
    "#                         tokenizer=tokenizer_porter,\n",
    "#                         preprocessor=preprocessor)\n",
    "\n",
    "clf = Pipeline([('vect',tfidf),('clf',LogisticRegression(random_state=0))])\n",
    "\n",
    "clf.fit(X_train,y_train)"
   ]
  },
  {
   "cell_type": "code",
   "execution_count": 201,
   "metadata": {},
   "outputs": [
    {
     "name": "stdout",
     "output_type": "stream",
     "text": [
      "0.8828\n",
      "[[3170  506]\n",
      " [ 373 3451]]\n",
      "              precision    recall  f1-score   support\n",
      "\n",
      "           0       0.89      0.86      0.88      3676\n",
      "           1       0.87      0.90      0.89      3824\n",
      "\n",
      "   micro avg       0.88      0.88      0.88      7500\n",
      "   macro avg       0.88      0.88      0.88      7500\n",
      "weighted avg       0.88      0.88      0.88      7500\n",
      "\n"
     ]
    }
   ],
   "source": [
    "from sklearn.metrics import accuracy_score, confusion_matrix, classification_report\n",
    "\n",
    "prediction = clf.predict(X_test)\n",
    "\n",
    "print(accuracy_score(y_test,prediction))\n",
    "print(confusion_matrix(y_test,prediction))\n",
    "print(classification_report(y_test, prediction))\n"
   ]
  },
  {
   "cell_type": "markdown",
   "metadata": {},
   "source": [
    "We get an accuracy score of 88.3% which is better than just random guess from the dataset (50%)\n",
    "\n",
    "Let's test again with some real recent reviews of Bumblebee and Aquaman on rottentomatoes.com and imdb.com"
   ]
  },
  {
   "cell_type": "code",
   "execution_count": 207,
   "metadata": {},
   "outputs": [],
   "source": [
    "reviews = [\"Finally a Transformers movie made by a true filmmaker and the franchise may finally ignite the series. The issue has always been Michael Bays style of humour and lack of direction for the characters. Knight on the other hand course corrects and provides a heartfelt connection to the series. The first 10 minutes are some of the most impressive action scenes of the series, relentless. It is a shame that audiences have neglected this, most likely due to the very poor Last Knight storyline. They have a chance to ignore the other movies in the franchise now and it is a good idea, the mythology of the characters was essentially destroyed by a director with little or no care for the franchise. I hope Knight returns in some form and Bay is sidelined for the future, think Snyder for the DC universe. This is a funny and at times heartfelt story, that services the fans and new fans at the same time. Great action and without the dumb jokes that plague the Transformers central series. 08/01/2019.'\",\n",
    "                \"Whats not to love about Bumblebee? The bar of expectation has been set so low for the Transformers franchise, so much so that anything better than the mind-numbing robot fights of the past must be good. Some parts were cute, like Bumblebee smashing the settee he sat on and truly bumbling away, yet so unnecessary. The back story of Hailee Steinfeld's daddy issues was also a distraction and cringeworthy. I had more fun watching the kids in the cinema screaming with delight at every Decepticon - Autobot battle, crying out when Bumblebee got beaten up really bad, and laughing at Bumblebee s antics. Its really for the kids, and I think they deserved to enjoy this one.\",\n",
    "                \"I think the movie is okay, but, the pacing is to messy, and there are to many cliches.\",\n",
    "               \"I want to cry now ......last year after watching Justice League, I was depressed. My friend didn't say anything but I know she think DC films sucks. So I went to see Aquaman alone yesterday, for the first time in my life,everyone was applauding after the movie (Maybe because everyone who go to watch Aquaman premiere is a DC fan but when I was waiting for a taxi I heard a boy talking to his girlfriend that This Marvel movie is wonderful!!! lol) James Wan is AMAZING,Aquaman is very imaginative and it's nothing like any other superhero movie I've seen before, he knows what we want, BEST DCEU FILM (Yes I think it's much better than SS/JL/BVS/MOS/WW) I can't believe that Aquaman's net production cost is160m, much lower than JL(300m) BVS(250m )MOS(225m) even SS costs175m!!! WB should give James Wan more budget to direct Aquaman 2!!!! P.S. James says he may direct a horror-style Batman movie,pls WB let him do it!!!!\",\n",
    "          \"I hate this movie.\"]\n",
    "\n",
    "\n",
    "preds = clf.predict_proba(reviews)"
   ]
  },
  {
   "cell_type": "code",
   "execution_count": 214,
   "metadata": {},
   "outputs": [
    {
     "name": "stdout",
     "output_type": "stream",
     "text": [
      "0 --> Negative, Positive = [0.33022303 0.66977697]\n",
      "1 --> Negative, Positive = [0.34540388 0.65459612]\n",
      "2 --> Negative, Positive = [0.6323063 0.3676937]\n",
      "3 --> Negative, Positive = [0.36611023 0.63388977]\n",
      "4 --> Negative, Positive = [0.6126845 0.3873155]\n"
     ]
    }
   ],
   "source": [
    "for i in range(len(reviews)):\n",
    "    print(f'{i} --> Negative, Positive = {preds[i]}')"
   ]
  },
  {
   "cell_type": "code",
   "execution_count": null,
   "metadata": {},
   "outputs": [],
   "source": []
  }
 ],
 "metadata": {
  "kernelspec": {
   "display_name": "Python 3",
   "language": "python",
   "name": "python3"
  },
  "language_info": {
   "codemirror_mode": {
    "name": "ipython",
    "version": 3
   },
   "file_extension": ".py",
   "mimetype": "text/x-python",
   "name": "python",
   "nbconvert_exporter": "python",
   "pygments_lexer": "ipython3",
   "version": "3.7.1"
  }
 },
 "nbformat": 4,
 "nbformat_minor": 2
}
